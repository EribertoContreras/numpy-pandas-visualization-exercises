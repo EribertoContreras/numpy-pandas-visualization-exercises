{
 "cells": [
  {
   "cell_type": "markdown",
   "id": "cd0453c9",
   "metadata": {},
   "source": [
    "# Making a dataset From SQL\n",
    "We can use the read_sql method to create a dataframe based on the results of a SQL query. To do this, we need to tell pandas how to connect to the database we are querying. The way we communicate this to pandas is with a specially formatted connection string.\n",
    "\n",
    "In addition, whenever we want to connect to a database from our python code (other programming languages are similar), we will need a driver, a bit of software that handles the details of the database connection.\n",
    "\n",
    "In order to connect to mysql, we'll install the pymysql driver packages:\n",
    "\n",
    "# python -m pip install pymysql\n",
    "- run this on terminal... anywhwere/ to pair python with SQL\n",
    "\n",
    "Once those are installed, we can create the connection string. In general, database connection urls will have this format:"
   ]
  },
  {
   "cell_type": "markdown",
   "id": "79d4af7d",
   "metadata": {},
   "source": [
    "- https://ds.codeup.com/python/advanced-dataframes/   use this for help"
   ]
  },
  {
   "cell_type": "code",
   "execution_count": 1,
   "id": "6f2d1bc3",
   "metadata": {},
   "outputs": [],
   "source": [
    "import pandas as pd\n",
    "import numpy as np\n",
    "\n",
    "np.random.seed(123)\n"
   ]
  },
  {
   "cell_type": "code",
   "execution_count": 2,
   "id": "7d32c2ef",
   "metadata": {},
   "outputs": [],
   "source": [
    "# Create list of values for names column.\n",
    "\n",
    "students = ['Sally', 'Jane', 'Suzie', 'Billy', 'Ada', 'John', 'Thomas',\n",
    "            'Marie', 'Albert', 'Richard', 'Isaac', 'Alan']\n",
    "\n",
    "# Randomly generate arrays of scores for each student for each subject.\n",
    "# Note that all the values need to have the same length here.\n",
    "\n",
    "math_grades = np.random.randint(low=60, high=100, size=len(students))\n",
    "english_grades = np.random.randint(low=60, high=100, size=len(students))\n",
    "reading_grades = np.random.randint(low=60, high=100, size=len(students))\n"
   ]
  },
  {
   "cell_type": "code",
   "execution_count": 3,
   "id": "0a1b55fc",
   "metadata": {},
   "outputs": [],
   "source": [
    "# Construct the DataFrame using the above lists and arrays.\n",
    "\n",
    "df = pd.DataFrame({'name': students,\n",
    "                   'math': math_grades,\n",
    "                   'english': english_grades,\n",
    "                   'reading': reading_grades,\n",
    "                   'classroom': np.random.choice(['A', 'B'], len(students))})\n"
   ]
  },
  {
   "cell_type": "code",
   "execution_count": 5,
   "id": "a63e81e4",
   "metadata": {},
   "outputs": [],
   "source": [
    "from pydataset import data\n",
    "\n"
   ]
  },
  {
   "cell_type": "markdown",
   "id": "aa91527d",
   "metadata": {},
   "source": [
    "Once those are installed, we can create the connection string. In general, database connection urls will have this format:\n",
    "\n",
    "\n",
    "protocol://[user[:password]@]hostname/[database_name]\n",
    "Here's an example of what one would look like:\n",
    "\n",
    "\n",
    "mysql+pymysql://codeup:p@assw0rd@123.123.123.123/some_db\n",
    "\n",
    "Another thing we need to consider is that we don't want to publish our database credentials to github, however, we will need access to these values in our code in order to create the connection string defined above.\n",
    "\n",
    "In order to accomplish this, we can define several variables in a file named env.py that contain the sensitive data, add env.py to our .gitignore file, and then import those values into another script.\n",
    "Be 100% sure to add env.py to this specific repository's .gitignore file, even and especially, if you have already added env.py to your global .gitignore file. This will protect the env file for people who clone this project (like collaborators)\n",
    "\n"
   ]
  },
  {
   "cell_type": "markdown",
   "id": "2598bd56",
   "metadata": {},
   "source": [
    "## echo env.py >> .gitignore"
   ]
  },
  {
   "cell_type": "markdown",
   "id": "112a53f4",
   "metadata": {},
   "source": [
    "#then.... \n",
    "\n",
    "from env import host, user, password\n",
    "\n",
    "url = f'mysql+pymysql://{user}:{password}@{host}/employees'\n"
   ]
  },
  {
   "cell_type": "markdown",
   "id": "e006bd01",
   "metadata": {},
   "source": [
    "pd.read_sql('SELECT * FROM employees LIMIT 5 OFFSET 50', url)\n"
   ]
  },
  {
   "cell_type": "code",
   "execution_count": null,
   "id": "2c11cecb",
   "metadata": {},
   "outputs": [],
   "source": []
  }
 ],
 "metadata": {
  "kernelspec": {
   "display_name": "Python 3 (ipykernel)",
   "language": "python",
   "name": "python3"
  },
  "language_info": {
   "codemirror_mode": {
    "name": "ipython",
    "version": 3
   },
   "file_extension": ".py",
   "mimetype": "text/x-python",
   "name": "python",
   "nbconvert_exporter": "python",
   "pygments_lexer": "ipython3",
   "version": "3.9.7"
  }
 },
 "nbformat": 4,
 "nbformat_minor": 5
}
