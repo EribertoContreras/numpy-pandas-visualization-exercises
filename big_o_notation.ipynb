{
 "cells": [
  {
   "cell_type": "markdown",
   "id": "39704648",
   "metadata": {},
   "source": [
    "# Make a new Jupyter notebook named big_o_notation.ipynb\n",
    "- Title your chart \"Big O Notation\"\n",
    "\n",
    "- Label your x axis \"Elements\"\n",
    "\n",
    "- Label your y axis \"Operations\"\n",
    "\n",
    "- Label your curves or make a legend for the curves\n",
    "\n",
    "- Use LaTex notation where possible\n",
    "\n",
    "- Curves to graph\n",
    "\n",
    "- y = 0n+1 and label the curve \"O(1)\"\n",
    "\n",
    "- y = log(n) and label the curve \"O(log n)\"\n",
    "\n",
    "- y = n and label the curve \"O(n)\"\n",
    "\n",
    "- y = n∗log(n) and label it \"O(n log n)\"\n",
    "\n",
    "- y = n^2 and label it \"O(n^2)\"\n",
    "\n",
    "- y = 2^n and label it \"O(2^n)\"\n",
    "\n",
    "- y = n! and label it \"O(n!)\"\n",
    "\n",
    "- y = n^n and label it \"O(n^n)\"\n"
   ]
  },
  {
   "cell_type": "code",
   "execution_count": 3,
   "id": "1e4bc7e6",
   "metadata": {},
   "outputs": [],
   "source": [
    "import matplotlib.pyplot as plt\n",
    "\n",
    "%matplotlib inline\n",
    "\n",
    "import math"
   ]
  },
  {
   "cell_type": "code",
   "execution_count": 4,
   "id": "5584991b",
   "metadata": {},
   "outputs": [
    {
     "data": {
      "text/plain": [
       "Text(0, 0.5, 'Operations')"
      ]
     },
     "execution_count": 4,
     "metadata": {},
     "output_type": "execute_result"
    },
    {
     "data": {
      "image/png": "[encoded data removed]",
      "text/plain": [
       "<Figure size 432x288 with 1 Axes>"
      ]
     },
     "metadata": {
      "needs_background": "light"
     },
     "output_type": "display_data"
    }
   ],
   "source": [
    "plt.xlabel('Elements')\n",
    "plt.ylabel('Operations')\n",
    "\n",
    "x = range(0,100)\n",
    "\n",
    "y1 = [1 for x in x]\n",
    "\n",
    "y2 = [math.log(x)]"
   ]
  },
  {
   "cell_type": "code",
   "execution_count": null,
   "id": "fb16c4a9",
   "metadata": {},
   "outputs": [],
   "source": [
    "x = range(0,100)\n",
    "\n",
    "y1 = [(math.sqrt(x)) for x in x]\n",
    "y2 = [((x**3)) for x in x]\n",
    "y3 = [((2**x)) for x in x]\n",
    "y4 = [(1/(x+1)) for x in x]\n",
    "\n",
    "plt.figure(figsize = (8,8))\n",
    "\n",
    "#plt.subplot(221)\n",
    "plt.plot(x,y1,label = 'y=√x')\n",
    "#plt.title('y=√x')\n",
    "\n",
    "#plt.subplot(222)\n",
    "plt.plot(x,y2,label = 'y=x^3')\n",
    "#plt.title('y=x^3')\n",
    "\n",
    "#plt.subplot(223)\n",
    "plt.plot(x,y3, label = 'y=2^x')\n",
    "#plt.title('y=2^x')\n",
    "\n",
    "\n",
    "#plt.subplot(224)\n",
    "plt.plot(x,y4,label = 'y=1/(x+1)')\n",
    "#plt.title('y=1/(x+1)')\n",
    "plt.label()\n",
    "plt.xlim(0,50)\n",
    "plt.ylim(0,10)\n",
    "plt.title(\"Big O Notation\")\n",
    "\n",
    "plt.legend(loc = 'upper right')"
   ]
  }
 ],
 "metadata": {
  "kernelspec": {
   "display_name": "Python 3 (ipykernel)",
   "language": "python",
   "name": "python3"
  },
  "language_info": {
   "codemirror_mode": {
    "name": "ipython",
    "version": 3
   },
   "file_extension": ".py",
   "mimetype": "text/x-python",
   "name": "python",
   "nbconvert_exporter": "python",
   "pygments_lexer": "ipython3",
   "version": "3.9.7"
  }
 },
 "nbformat": 4,
 "nbformat_minor": 5
}
